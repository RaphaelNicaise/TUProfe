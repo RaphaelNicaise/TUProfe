{
 "cells": [
  {
   "cell_type": "code",
   "execution_count": 11,
   "metadata": {},
   "outputs": [],
   "source": [
    "import requests"
   ]
  },
  {
   "cell_type": "code",
   "execution_count": 5,
   "metadata": {},
   "outputs": [],
   "source": [
    "\n",
    "def create_clients(amount):\n",
    "  new_clients = requests.get(f'https://randomuser.me/api/1.4/?results={amount}&nat=us&password=8-16').json()['results']\n",
    "  users = []\n",
    "  for client in new_clients:\n",
    "    user = {\n",
    "      \"nombre\":client['name']['first'],\n",
    "      \"apellido\":client['name']['last'],\n",
    "      \"mail\":client['email'],\n",
    "      \"password\":client['login']['password'],\n",
    "      \"telefono\":client['phone'],\n",
    "      \"descripcion\":\"New client from randomuser.me\"\n",
    "    }\n",
    "    users.append(user)\n",
    "  return users\n",
    "\n",
    "def post_clients(users):\n",
    "  url = 'http://127.0.0.1:5000/api/register'\n",
    "  for user in users:\n",
    "    requests.post(url=url,json=user)"
   ]
  },
  {
   "cell_type": "code",
   "execution_count": 10,
   "metadata": {},
   "outputs": [],
   "source": [
    "new_clients=create_clients(100)\n",
    "post_clients(new_clients)"
   ]
  }
 ],
 "metadata": {
  "kernelspec": {
   "display_name": "venv",
   "language": "python",
   "name": "python3"
  },
  "language_info": {
   "codemirror_mode": {
    "name": "ipython",
    "version": 3
   },
   "file_extension": ".py",
   "mimetype": "text/x-python",
   "name": "python",
   "nbconvert_exporter": "python",
   "pygments_lexer": "ipython3",
   "version": "3.12.3"
  }
 },
 "nbformat": 4,
 "nbformat_minor": 2
}
